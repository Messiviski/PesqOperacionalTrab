{
 "cells": [
  {
   "cell_type": "code",
   "execution_count": 1,
   "metadata": {},
   "outputs": [],
   "source": [
    "from docplex.mp.model import Model \n",
    "import math\n",
    "\n",
    "mdl = Model(\"modelo\")"
   ]
  },
  {
   "cell_type": "code",
   "execution_count": 2,
   "metadata": {},
   "outputs": [],
   "source": [
    "f = open(\"instanciaProjeto.txt\")\n",
    "n_vertices = int(f.readline().strip(\"\\n\"))\n",
    "n_arcos = int(f.readline().strip(\"\\n\"))\n",
    "indice_origem = int(f.readline().strip(\"\\n\"))\n",
    "indice_escoadouro = int(f.readline().strip(\"\\n\"))\n",
    "infinito = math.inf"
   ]
  },
  {
   "cell_type": "code",
   "execution_count": 3,
   "metadata": {},
   "outputs": [],
   "source": [
    "#Atribuir o i, j junto com o carga de carga máxima a um array, fazendo um array de arrays\n",
    "dados_arcos = []\n",
    "lista_dados_arcos = []\n",
    "\n",
    "for dados in f:\n",
    "    dados_arcos = [dados.strip(\"\\n\").split(\" \")]\n",
    "    \n",
    "    lista_dados_arcos.extend(dados_arcos)\n",
    "    \n",
    "for i in range(len(lista_dados_arcos)):\n",
    "    for j in range(3):\n",
    "        lista_dados_arcos[i][j] = int(lista_dados_arcos[i][j])"
   ]
  },
  {
   "cell_type": "code",
   "execution_count": 4,
   "metadata": {},
   "outputs": [],
   "source": [
    "lista_dados_arcos.append([lista_dados_arcos[-1][1], lista_dados_arcos[0][0], infinito])"
   ]
  },
  {
   "cell_type": "code",
   "execution_count": 5,
   "metadata": {},
   "outputs": [],
   "source": [
    "#As variáveis xij foram definidas, de modo que i != j \n",
    "lista_variaveis = []\n",
    "\n",
    "for i in range(len(lista_dados_arcos)):\n",
    "    for j in range(1):\n",
    "        lista_variaveis.append(mdl.continuous_var(name = f\"x_{lista_dados_arcos[i][j]}_{lista_dados_arcos[i][j+1]}\"))"
   ]
  },
  {
   "cell_type": "code",
   "execution_count": 6,
   "metadata": {},
   "outputs": [],
   "source": [
    "#As restrições de capacidade de cada arco foram definidas\n",
    "for i in range(len(lista_variaveis)):\n",
    "    for j in range(1):\n",
    "        mdl.add_constraint(lista_variaveis[i] <= lista_dados_arcos[i][j+2])"
   ]
  },
  {
   "cell_type": "code",
   "execution_count": 8,
   "metadata": {
    "scrolled": true
   },
   "outputs": [
    {
     "data": {
      "text/plain": [
       "docplex.mp.LinearConstraint[](x_5_7+x_6_7,EQ,x_7_1)"
      ]
     },
     "execution_count": 8,
     "metadata": {},
     "output_type": "execute_result"
    }
   ],
   "source": [
    "mdl.add_constraint(lista_variaveis[0] - lista_variaveis[3] == 0)\n",
    "mdl.add_constraint(lista_variaveis[1] - lista_variaveis[4] - lista_variaveis[5] - lista_variaveis[6] == 0)\n",
    "mdl.add_constraint(lista_variaveis[2] + lista_variaveis[4] - lista_variaveis[7] == 0)\n",
    "mdl.add_constraint(lista_variaveis[3] + lista_variaveis[5] - lista_variaveis[8] == 0)\n",
    "mdl.add_constraint(lista_variaveis[6] + lista_variaveis[7] - lista_variaveis[9] == 0)\n",
    "mdl.add_constraint(lista_variaveis[8] + lista_variaveis[9] == lista_variaveis[-1])"
   ]
  },
  {
   "cell_type": "code",
   "execution_count": 9,
   "metadata": {},
   "outputs": [],
   "source": [
    "mdl.minimize(-lista_variaveis[-1])"
   ]
  },
  {
   "cell_type": "code",
   "execution_count": 10,
   "metadata": {},
   "outputs": [
    {
     "ename": "DOcplexException",
     "evalue": "CPLEX runtime not found: please install CPLEX or solve this model on DOcplexcloud",
     "output_type": "error",
     "traceback": [
      "\u001b[0;31m---------------------------------------------------------------------------\u001b[0m",
      "\u001b[0;31mDOcplexException\u001b[0m                          Traceback (most recent call last)",
      "\u001b[0;32m<ipython-input-10-789a5c147af0>\u001b[0m in \u001b[0;36m<module>\u001b[0;34m\u001b[0m\n\u001b[0;32m----> 1\u001b[0;31m \u001b[0msolucion\u001b[0m \u001b[0;34m=\u001b[0m \u001b[0mmdl\u001b[0m\u001b[0;34m.\u001b[0m\u001b[0msolve\u001b[0m\u001b[0;34m(\u001b[0m\u001b[0mlog_output\u001b[0m\u001b[0;34m=\u001b[0m\u001b[0;32mTrue\u001b[0m\u001b[0;34m)\u001b[0m\u001b[0;34m\u001b[0m\u001b[0;34m\u001b[0m\u001b[0m\n\u001b[0m",
      "\u001b[0;32m~/.local/lib/python3.8/site-packages/docplex/mp/model.py\u001b[0m in \u001b[0;36msolve\u001b[0;34m(self, **kwargs)\u001b[0m\n\u001b[1;32m   4220\u001b[0m             \u001b[0;32melse\u001b[0m\u001b[0;34m:\u001b[0m\u001b[0;34m\u001b[0m\u001b[0;34m\u001b[0m\u001b[0m\n\u001b[1;32m   4221\u001b[0m                 \u001b[0;31m# no way to solve.. really\u001b[0m\u001b[0;34m\u001b[0m\u001b[0;34m\u001b[0m\u001b[0;34m\u001b[0m\u001b[0m\n\u001b[0;32m-> 4222\u001b[0;31m                 \u001b[0;32mreturn\u001b[0m \u001b[0mself\u001b[0m\u001b[0;34m.\u001b[0m\u001b[0mfatal\u001b[0m\u001b[0;34m(\u001b[0m\u001b[0;34m\"CPLEX runtime not found: please install CPLEX or solve this model on DOcplexcloud\"\u001b[0m\u001b[0;34m)\u001b[0m\u001b[0;34m\u001b[0m\u001b[0;34m\u001b[0m\u001b[0m\n\u001b[0m\u001b[1;32m   4223\u001b[0m         \u001b[0;32mfinally\u001b[0m\u001b[0;34m:\u001b[0m\u001b[0;34m\u001b[0m\u001b[0;34m\u001b[0m\u001b[0m\n\u001b[1;32m   4224\u001b[0m             \u001b[0;32mtry\u001b[0m\u001b[0;34m:\u001b[0m\u001b[0;34m\u001b[0m\u001b[0;34m\u001b[0m\u001b[0m\n",
      "\u001b[0;32m~/.local/lib/python3.8/site-packages/docplex/mp/model.py\u001b[0m in \u001b[0;36mfatal\u001b[0;34m(self, msg, *args)\u001b[0m\n\u001b[1;32m    892\u001b[0m \u001b[0;34m\u001b[0m\u001b[0m\n\u001b[1;32m    893\u001b[0m     \u001b[0;32mdef\u001b[0m \u001b[0mfatal\u001b[0m\u001b[0;34m(\u001b[0m\u001b[0mself\u001b[0m\u001b[0;34m,\u001b[0m \u001b[0mmsg\u001b[0m\u001b[0;34m,\u001b[0m \u001b[0;34m*\u001b[0m\u001b[0margs\u001b[0m\u001b[0;34m)\u001b[0m\u001b[0;34m:\u001b[0m\u001b[0;34m\u001b[0m\u001b[0;34m\u001b[0m\u001b[0m\n\u001b[0;32m--> 894\u001b[0;31m         \u001b[0mself\u001b[0m\u001b[0;34m.\u001b[0m\u001b[0m_error_handler\u001b[0m\u001b[0;34m.\u001b[0m\u001b[0mfatal\u001b[0m\u001b[0;34m(\u001b[0m\u001b[0mmsg\u001b[0m\u001b[0;34m,\u001b[0m \u001b[0margs\u001b[0m\u001b[0;34m)\u001b[0m\u001b[0;34m\u001b[0m\u001b[0;34m\u001b[0m\u001b[0m\n\u001b[0m\u001b[1;32m    895\u001b[0m \u001b[0;34m\u001b[0m\u001b[0m\n\u001b[1;32m    896\u001b[0m     \u001b[0;32mdef\u001b[0m \u001b[0mfatal_ce_limits\u001b[0m\u001b[0;34m(\u001b[0m\u001b[0mself\u001b[0m\u001b[0;34m,\u001b[0m \u001b[0;34m*\u001b[0m\u001b[0margs\u001b[0m\u001b[0;34m)\u001b[0m\u001b[0;34m:\u001b[0m\u001b[0;34m\u001b[0m\u001b[0;34m\u001b[0m\u001b[0m\n",
      "\u001b[0;32m~/.local/lib/python3.8/site-packages/docplex/mp/error_handler.py\u001b[0m in \u001b[0;36mfatal\u001b[0;34m(self, msg, args)\u001b[0m\n\u001b[1;32m    208\u001b[0m         \u001b[0mresolved_message\u001b[0m \u001b[0;34m=\u001b[0m \u001b[0mresolve_pattern\u001b[0m\u001b[0;34m(\u001b[0m\u001b[0mmsg\u001b[0m\u001b[0;34m,\u001b[0m \u001b[0margs\u001b[0m\u001b[0;34m)\u001b[0m\u001b[0;34m\u001b[0m\u001b[0;34m\u001b[0m\u001b[0m\n\u001b[1;32m    209\u001b[0m         \u001b[0mdocplex_error_stop_here\u001b[0m\u001b[0;34m(\u001b[0m\u001b[0;34m)\u001b[0m\u001b[0;34m\u001b[0m\u001b[0;34m\u001b[0m\u001b[0m\n\u001b[0;32m--> 210\u001b[0;31m         \u001b[0;32mraise\u001b[0m \u001b[0mDOcplexException\u001b[0m\u001b[0;34m(\u001b[0m\u001b[0mresolved_message\u001b[0m\u001b[0;34m)\u001b[0m\u001b[0;34m\u001b[0m\u001b[0;34m\u001b[0m\u001b[0m\n\u001b[0m\u001b[1;32m    211\u001b[0m \u001b[0;34m\u001b[0m\u001b[0m\n\u001b[1;32m    212\u001b[0m     \u001b[0;32mdef\u001b[0m \u001b[0mfatal_limits_exceeded\u001b[0m\u001b[0;34m(\u001b[0m\u001b[0mself\u001b[0m\u001b[0;34m)\u001b[0m\u001b[0;34m:\u001b[0m\u001b[0;34m\u001b[0m\u001b[0;34m\u001b[0m\u001b[0m\n",
      "\u001b[0;31mDOcplexException\u001b[0m: CPLEX runtime not found: please install CPLEX or solve this model on DOcplexcloud"
     ]
    }
   ],
   "source": [
    "solucion = mdl.solve(log_output=True)"
   ]
  },
  {
   "cell_type": "code",
   "execution_count": 13,
   "metadata": {},
   "outputs": [
    {
     "name": "stdout",
     "output_type": "stream",
     "text": [
      "solution for: modelo\n",
      "objective: -9.000\n",
      "x_1_2 = 4.000\n",
      "x_1_3 = 4.000\n",
      "x_1_4 = 1.000\n",
      "x_2_5 = 4.000\n",
      "x_3_4 = 3.000\n",
      "x_3_6 = 1.000\n",
      "x_4_6 = 4.000\n",
      "x_5_7 = 4.000\n",
      "x_6_7 = 5.000\n",
      "x_7_1 = 9.000\n"
     ]
    }
   ],
   "source": [
    "solucion.display()"
   ]
  },
  {
   "cell_type": "code",
   "execution_count": 13,
   "metadata": {},
   "outputs": [
    {
     "name": "stdout",
     "output_type": "stream",
     "text": [
      "\\ This file has been generated by DOcplex\n",
      "\\ ENCODING=ISO-8859-1\n",
      "\\Problem name: modelo\n",
      "\n",
      "Minimize\n",
      " obj: - x_7_1\n",
      "Subject To\n",
      " c1: x_1_2 <= 10\n",
      " c2: x_1_3 <= 8\n",
      " c3: x_1_4 <= 3\n",
      " c4: x_2_3 <= 4\n",
      " c5: x_2_5 <= 4\n",
      " c6: x_3_5 <= 8\n",
      " c7: x_3_6 <= 2\n",
      " c8: x_4_3 <= 3\n",
      " c9: x_4_5 <= 7\n",
      " c10: x_4_6 <= 9\n",
      " c11: x_5_7 <= 10\n",
      " c12: x_6_7 <= 10\n",
      " c13: x_7_1 <= 1e+20\n",
      "\n",
      "Bounds\n",
      "End\n",
      "\n"
     ]
    }
   ],
   "source": [
    "print(mdl.export_to_string())"
   ]
  },
  {
   "cell_type": "code",
   "execution_count": null,
   "metadata": {},
   "outputs": [],
   "source": []
  }
 ],
 "metadata": {
  "kernelspec": {
   "display_name": "Python 3",
   "language": "python",
   "name": "python3"
  },
  "language_info": {
   "codemirror_mode": {
    "name": "ipython",
    "version": 3
   },
   "file_extension": ".py",
   "mimetype": "text/x-python",
   "name": "python",
   "nbconvert_exporter": "python",
   "pygments_lexer": "ipython3",
   "version": "3.8.5"
  }
 },
 "nbformat": 4,
 "nbformat_minor": 4
}
